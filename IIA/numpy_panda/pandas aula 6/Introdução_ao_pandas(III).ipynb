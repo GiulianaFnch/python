{
  "nbformat": 4,
  "nbformat_minor": 0,
  "metadata": {
    "colab": {
      "provenance": []
    },
    "kernelspec": {
      "name": "python3",
      "display_name": "Python 3"
    },
    "language_info": {
      "name": "python"
    }
  },
  "cells": [
    {
      "cell_type": "markdown",
      "source": [
        "\n",
        "---\n",
        "\n",
        "\n",
        "[documentação](https://pandas.pydata.org/docs/index.html) <br>\n",
        "dataset: [fonte](https://www.kaggle.com/datasets/rtatman/lego-database?select=inventory_parts.csv)\n",
        "\n",
        "---\n"
      ],
      "metadata": {
        "id": "AkuI81NMjbMO"
      }
    },
    {
      "cell_type": "markdown",
      "source": [
        ">>[1. vamos começar por importar a biblioteca e os datasets](#scrollTo=_8wgdKckiu4e)\n",
        "\n",
        ">>[2. vamos explorar o dataset dos sets de legos](#scrollTo=nhJe9XIjkkJR)\n",
        "\n",
        ">>[3. vamos explorar o dataset dos temas](#scrollTo=-74arCL7k0TJ)\n",
        "\n",
        ">>[4. vamos explorar o dataset dos inventários](#scrollTo=ewU2CX6Wk8zL)\n",
        "\n",
        ">>[5. vamos explorar o dataset dos inventários das peças](#scrollTo=t0HBoR-qlG0d)\n",
        "\n"
      ],
      "metadata": {
        "colab_type": "toc",
        "id": "c_1iD6ikkYDs"
      }
    },
    {
      "cell_type": "markdown",
      "source": [
        "## 1.&nbsp;vamos começar por importar a biblioteca e os datasets"
      ],
      "metadata": {
        "id": "_8wgdKckiu4e"
      }
    },
    {
      "cell_type": "code",
      "execution_count": null,
      "metadata": {
        "id": "1LFbv6ohMPR_"
      },
      "outputs": [],
      "source": [
        "import pandas as pd\n",
        "import numpy as np\n",
        "import matplotlib.pyplot as plt\n",
        "import seaborn as sns"
      ]
    },
    {
      "cell_type": "code",
      "source": [
        "df_sets = pd.read_csv('sets.csv')\n",
        "df_themes = pd.read_csv('themes.csv')\n",
        "df_inventories = pd.read_csv('inventories.csv')\n",
        "df_inventory_parts = pd.read_csv('inventory_parts.csv')\n",
        "df_parts = pd.read_csv('parts.csv')\n",
        "df_part_categories = pd.read_csv('part_categories.csv')\n",
        "df_colors = pd.read_csv('colors.csv')"
      ],
      "metadata": {
        "id": "mO_5r3wMMxmN"
      },
      "execution_count": null,
      "outputs": []
    },
    {
      "cell_type": "markdown",
      "source": [
        "## 2.&nbsp;vamos explorar o dataset dos sets de legos"
      ],
      "metadata": {
        "id": "nhJe9XIjkkJR"
      }
    },
    {
      "cell_type": "code",
      "source": [
        "df_sets.info()\n",
        "df_sets.head()\n",
        "df_sets['num_parts'].value_counts().reset_index().plot.scatter(x='num_parts', y='count')"
      ],
      "metadata": {
        "id": "NpnP7Tw1NdLr"
      },
      "execution_count": null,
      "outputs": []
    },
    {
      "cell_type": "code",
      "source": [
        "df_counts = df_sets['num_parts'].value_counts().reset_index()\n",
        "df_counts.columns = ['num_parts', 'count']\n",
        "\n",
        "mean_val = df_counts['num_parts'].mean()\n",
        "median_val = df_counts['num_parts'].median()\n",
        "percentile_80 = np.percentile(df_counts['num_parts'], 80)\n",
        "\n",
        "# vamos criar o gráfico\n",
        "sns.set_theme(style=\"white\")\n",
        "plt.figure(figsize=(10, 6))\n",
        "sns.scatterplot(data=df_counts, x='num_parts', y='count', color='blue', edgecolor='black', alpha=0.7)\n",
        "plt.xscale(\"log\")\n",
        "plt.axvline(mean_val, color='green', linestyle='dashed', linewidth=2, label=f\"Mean: {mean_val:.0f}\")\n",
        "plt.axvline(median_val, color='orange', linestyle='solid', linewidth=2, label=f\"Median: {median_val:.0f}\")\n",
        "plt.axvline(percentile_80, color='red', linestyle='dotted', linewidth=2, label=f\"80% Threshold: {percentile_80:.0f}\")\n",
        "plt.xlabel(\"Número de peças (log scale)\", fontsize=12)\n",
        "plt.ylabel(\"Número de sets\", fontsize=12)\n",
        "plt.title(\"Distribuição do número de peças nos sets (Log Scale)\", fontsize=14, fontweight='bold')\n",
        "plt.legend()\n"
      ],
      "metadata": {
        "id": "p-Hz2km1PZ2H"
      },
      "execution_count": null,
      "outputs": []
    },
    {
      "cell_type": "code",
      "source": [
        "sets_per_year = df_sets.groupby(\"year\").size()\n",
        "\n",
        "# vamos criar o gráfico\n",
        "sns.set_theme(style=\"white\")\n",
        "plt.figure(figsize=(12, 6))\n",
        "sns.lineplot(x=sets_per_year.index, y=sets_per_year.values, marker=\"o\", color=\"blue\")\n",
        "plt.xlabel(\"Ano\", fontsize=12)\n",
        "plt.ylabel(\"Número de sets (log scale)\", fontsize=12)\n",
        "plt.title(\"Número de sets lançados por ano\", fontsize=14, fontweight=\"bold\")"
      ],
      "metadata": {
        "id": "B1KO8qwNOSh4"
      },
      "execution_count": null,
      "outputs": []
    },
    {
      "cell_type": "code",
      "source": [
        "# vamos calcular a soma cumulativa\n",
        "cumulative_sets = sets_per_year.cumsum()\n",
        "\n",
        "# vamos calcular momentos-chave\n",
        "total_sets = cumulative_sets.max()\n",
        "thresholds = {\n",
        "    \"20%\": total_sets * 0.2,\n",
        "    \"50%\": total_sets * 0.5,\n",
        "    \"80%\": total_sets * 0.8\n",
        "}\n",
        "\n",
        "# vamos perceber em que anos acontecem\n",
        "milestone_years = {label: cumulative_sets[cumulative_sets >= value].index[0] for label, value in thresholds.items()}\n",
        "\n",
        "# vamos criar o gráfico\n",
        "sns.set_theme(style=\"white\")\n",
        "plt.figure(figsize=(12, 6))\n",
        "sns.lineplot(x=cumulative_sets.index, y=cumulative_sets.values, marker=\"o\", color=\"blue\", label=\"Cumulative LEGO Sets\")\n",
        "for label, year in milestone_years.items():\n",
        "    plt.axvline(year, color=\"red\", linestyle=\"dotted\", linewidth=2, label=f\"{label} Reached in {year}\")\n",
        "    plt.text(year, cumulative_sets[year], f\"{label}\", color=\"black\", fontsize=12, verticalalignment=\"bottom\", horizontalalignment=\"right\")\n",
        "plt.xlabel(\"Ano\", fontsize=12)\n",
        "plt.ylabel(\"Número cumulativo de sets (log scale)\", fontsize=12)\n",
        "plt.title(\"Número cumulativo de sets lançados por ano\", fontsize=14, fontweight=\"bold\")\n",
        "plt.legend()"
      ],
      "metadata": {
        "id": "tiH7rJj0RGUQ"
      },
      "execution_count": null,
      "outputs": []
    },
    {
      "cell_type": "code",
      "source": [
        "# vamos adicionar a coluna da década\n",
        "df_sets['decade'] = (df_sets['year'] // 10) * 10\n",
        "\n",
        "# vamos calcular o número de peças médio por set por década\n",
        "avg_parts_per_decade = df_sets.groupby('decade')['num_parts'].mean()\n",
        "\n",
        "# vamos criar o gráfico\n",
        "sns.set_theme(style=\"white\")\n",
        "plt.figure(figsize=(12, 6))\n",
        "sns.barplot(x=avg_parts_per_decade.index, y=avg_parts_per_decade.values, hue=avg_parts_per_decade.index, palette='Blues_d', legend=False)\n",
        "plt.xlabel(\"Década\", fontsize=12)\n",
        "plt.ylabel(\"Número médio de peças  por set(log scale)\", fontsize=12)\n",
        "plt.title(\"Número médio de peças por set por década\", fontsize=14, fontweight=\"bold\")"
      ],
      "metadata": {
        "id": "vdx60ICrTeMl"
      },
      "execution_count": null,
      "outputs": []
    },
    {
      "cell_type": "markdown",
      "source": [
        "## 3.&nbsp;vamos explorar o dataset dos temas"
      ],
      "metadata": {
        "id": "-74arCL7k0TJ"
      }
    },
    {
      "cell_type": "code",
      "source": [
        "df_themes.head()\n",
        "df_themes.info()"
      ],
      "metadata": {
        "id": "6C_uFoqHNe7h"
      },
      "execution_count": null,
      "outputs": []
    },
    {
      "cell_type": "code",
      "source": [
        "df_themes.nunique()"
      ],
      "metadata": {
        "id": "MzpbI1PHV3j6"
      },
      "execution_count": null,
      "outputs": []
    },
    {
      "cell_type": "code",
      "source": [
        "id_count_per_parent = round(df_themes.value_counts(subset=\"parent_id\", normalize=True).head(15)*100,2).reset_index()\n",
        "\n",
        "# vamos criar o gráfico\n",
        "sns.set_theme(style=\"white\")\n",
        "plt.figure(figsize=(12, 6))\n",
        "sns.barplot(\n",
        "    x=id_count_per_parent.proportion,\n",
        "    y=id_count_per_parent.parent_id.astype(str),\n",
        "    hue=id_count_per_parent.parent_id.astype(str),\n",
        "    palette='Blues_r',\n",
        "    legend=False,\n",
        "    orient='h'\n",
        ")\n",
        "plt.xlabel(\"Parent ID\", fontsize=12)\n",
        "plt.ylabel(\"Número de Parent IDs\", fontsize=12)\n",
        "plt.title(\"Número de IDs por Parent ID (%)\", fontsize=14, fontweight=\"bold\")"
      ],
      "metadata": {
        "id": "rShg-g0QWHOJ"
      },
      "execution_count": null,
      "outputs": []
    },
    {
      "cell_type": "code",
      "source": [
        "id_count_per_parent_names = id_count_per_parent.merge(\n",
        "    df_themes[[\"id\", \"name\"]],\n",
        "    left_on='parent_id',\n",
        "    right_on='id',\n",
        "    how='left'\n",
        ").drop(columns=['id']).rename(columns={'name': 'parent_name'})\n",
        "\n",
        "# vamos criar o gráfico\n",
        "sns.set_theme(style=\"white\")\n",
        "plt.figure(figsize=(12, 6))\n",
        "sns.barplot(\n",
        "    x=id_count_per_parent_names.proportion,\n",
        "    y=id_count_per_parent_names.parent_name,\n",
        "    hue=id_count_per_parent_names.parent_name,\n",
        "    palette='Blues_r',\n",
        "    legend=False,\n",
        "    orient='h'\n",
        ")\n",
        "plt.xlabel(\"Parent ID\", fontsize=12)\n",
        "plt.ylabel(\"Número de Parent IDs\", fontsize=12)\n",
        "plt.title(\"Número de IDs por Parent ID (%)\", fontsize=14, fontweight=\"bold\")"
      ],
      "metadata": {
        "id": "ujdScCP4ZRAz"
      },
      "execution_count": null,
      "outputs": []
    },
    {
      "cell_type": "markdown",
      "source": [
        "## 4.&nbsp;vamos explorar o dataset dos inventários"
      ],
      "metadata": {
        "id": "ewU2CX6Wk8zL"
      }
    },
    {
      "cell_type": "code",
      "source": [
        "df_inventories.head()\n",
        "df_inventories.info()"
      ],
      "metadata": {
        "id": "hZZAi9bCNp4X"
      },
      "execution_count": null,
      "outputs": []
    },
    {
      "cell_type": "code",
      "source": [
        "# vamos verificar o número de valores únicos por coluna\n",
        "df_inventories.nunique()"
      ],
      "metadata": {
        "id": "XwfgnGQ9cuu7"
      },
      "execution_count": null,
      "outputs": []
    },
    {
      "cell_type": "code",
      "source": [
        "# vamos contar o número de inventories_id para cada set\n",
        "df_inventories_grouped = df_inventories.groupby(\"set_num\").size().sort_values(ascending=False).reset_index()\n",
        "df_inventories_grouped.columns = [\"set_num\", \"num_inventories\"]\n",
        "df_inventories_grouped\n",
        "\n",
        "# vamos considerar apenas os sets com mais do que um inventário\n",
        "condition_1 = df_inventories_grouped[\"num_inventories\"] > 1\n",
        "df_inventories_grouped = df_inventories_grouped[condition_1]\n",
        "df_inventories_grouped\n",
        "\n",
        "# vamos ver o nome desses sets\n",
        "df_inventories_grouped = df_inventories_grouped[[\"set_num\"]].merge(df_sets[[\"set_num\", \"name\"]], on=\"set_num\", how=\"left\").merge(df_inventories[[\"set_num\", \"id\"]], on=\"set_num\", how=\"left\")\n",
        "df_inventories_grouped"
      ],
      "metadata": {
        "id": "JwA3y2-Zc2GG"
      },
      "execution_count": null,
      "outputs": []
    },
    {
      "cell_type": "markdown",
      "source": [
        "## 5.&nbsp;vamos explorar o dataset dos inventários das peças"
      ],
      "metadata": {
        "id": "t0HBoR-qlG0d"
      }
    },
    {
      "cell_type": "code",
      "source": [
        "df_inventory_parts.head()\n",
        "df_inventory_parts.info()"
      ],
      "metadata": {
        "id": "I0onYHsjNsDq"
      },
      "execution_count": null,
      "outputs": []
    },
    {
      "cell_type": "code",
      "source": [
        "# vamos verificar o número de peças por inventário, considerando que podem ser peças sobresselentes\n",
        "df_pivot = df_inventory_parts.pivot_table(\n",
        "    index=\"inventory_id\",\n",
        "    columns=\"is_spare\",\n",
        "    values=\"quantity\",\n",
        "    aggfunc=\"sum\",\n",
        "    fill_value=0,\n",
        "    margins=True\n",
        ").reset_index()\n",
        "df_pivot.columns.name = None\n",
        "df_pivot.columns = [\"inventory_id\", \"not_spare\", \"spare\", \"total\"]\n",
        "df_pivot"
      ],
      "metadata": {
        "id": "G5kBefZqfo8c"
      },
      "execution_count": null,
      "outputs": []
    },
    {
      "cell_type": "code",
      "source": [
        "# vamos confirmar se a diferença dos inventários no mesmo set está no número de peças\n",
        "df_inventories_grouped.merge(df_pivot, right_on=\"inventory_id\", left_on=\"id\", how=\"left\").drop(columns=[\"id\"])"
      ],
      "metadata": {
        "id": "oymzqyEUiCCk"
      },
      "execution_count": null,
      "outputs": []
    }
  ]
}