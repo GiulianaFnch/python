{
  "cells": [
    {
      "cell_type": "markdown",
      "metadata": {
        "id": "0anqVfaomEbf"
      },
      "source": [
        "# Vamos aplicar o que aprendemos sobre os Numpy array\n",
        "\n",
        "\n",
        "*   Complete com o código em falta\n",
        "*   Sempre que necessário, **substitua** ___\n",
        "\n"
      ]
    },
    {
      "cell_type": "code",
      "execution_count": null,
      "metadata": {
        "colab": {
          "base_uri": "https://localhost:8080/"
        },
        "id": "c3kntpgQmB4i",
        "outputId": "aa14e269-5481-466c-f635-308d117477ad"
      },
      "outputs": [
        {
          "ename": "SyntaxError",
          "evalue": "'return' outside function (2190078164.py, line 11)",
          "output_type": "error",
          "traceback": [
            "  \u001b[36mCell\u001b[39m\u001b[36m \u001b[39m\u001b[32mIn[4]\u001b[39m\u001b[32m, line 11\u001b[39m\n\u001b[31m    \u001b[39m\u001b[31mreturn\u001b[39m\n    ^\n\u001b[31mSyntaxError\u001b[39m\u001b[31m:\u001b[39m 'return' outside function\n"
          ]
        }
      ],
      "source": [
        "#lista exemplo\n",
        "phone_matrix = [[1, 2, 3],\n",
        "                [4, 5, 6],\n",
        "                [7, 8, 9]]\n",
        "\n",
        "# importe a biblioteca NumPy com o alias usual\n",
        "import numpy as np\n",
        "\n",
        "# importe a biblioteca Matplotlib como plt\n",
        "import matplotlib.pyplot as plt\n",
        "\n",
        "\n",
        "# converta a lista num array\n",
        "phone_matrix_array =  np.array([[1, 2, 3],\n",
        "                                [4, 5, 6],\n",
        "                                [7, 8, 9]])\n",
        "\n",
        "# faça print para ver o tipo de dados do array\n",
        "print(phone_matrix_array.dtype)"
      ]
    },
    {
      "cell_type": "code",
      "execution_count": null,
      "metadata": {
        "colab": {
          "base_uri": "https://localhost:8080/"
        },
        "id": "oOv36aJhpSEM",
        "outputId": "384a5550-747f-4644-a5aa-c002dbb8b120"
      },
      "outputs": [
        {
          "name": "stdout",
          "output_type": "stream",
          "text": [
            "[[0. 0.]\n",
            " [0. 0.]\n",
            " [0. 0.]]\n"
          ]
        }
      ],
      "source": [
        "# crie um array com zeros com 3 linhas e 2 colunas\n",
        "zero_array = np.zeros((3,2))\n",
        "# faça print para ver o array\n",
        "print(zero_array)"
      ]
    },
    {
      "cell_type": "code",
      "execution_count": null,
      "metadata": {
        "colab": {
          "base_uri": "https://localhost:8080/"
        },
        "id": "nYiPvpoQ6iXc",
        "outputId": "e4af5069-e805-4f56-8a59-c5315a4347e2"
      },
      "outputs": [
        {
          "name": "stdout",
          "output_type": "stream",
          "text": [
            "[[0.83507059 0.39595964]\n",
            " [0.50531667 0.42801409]\n",
            " [0.29993326 0.75466523]\n",
            " [0.49288552 0.83956215]\n",
            " [0.53531995 0.73993893]\n",
            " [0.12273161 0.82270877]]\n"
          ]
        }
      ],
      "source": [
        "# crie um array de números aleatório com 6 linhas e 2 colunas\n",
        "random_array = np.random.random((6,2))\n",
        "\n",
        "# faça print para ver o array\n",
        "print(random_array)"
      ]
    },
    {
      "cell_type": "code",
      "execution_count": null,
      "metadata": {
        "colab": {
          "base_uri": "https://localhost:8080/",
          "height": 430
        },
        "id": "nQG-7fxM7Yoi",
        "outputId": "c04f7057-0a31-4a05-e179-45690833c3b1"
      },
      "outputs": [
        {
          "data": {
            "image/png": "[encoded data removed]",
            "text/plain": [
              "<Figure size 640x480 with 1 Axes>"
            ]
          },
          "metadata": {},
          "output_type": "display_data"
        }
      ],
      "source": [
        "# array exemplo\n",
        "y_values = np.array([1, 1, 2, 3, 5, 8, 13, 21, 34, 55])\n",
        "\n",
        "# crie um array de inteiros de 1 a 10 (inclusive)\n",
        "one_to_ten = np.arange(1,11)\n",
        "\n",
        "# Uma excelente opção para definir ordenadas num gráfico\n",
        "plt.scatter(one_to_ten, y_values)\n",
        "plt.show()"
      ]
    },
    {
      "cell_type": "code",
      "execution_count": null,
      "metadata": {
        "colab": {
          "base_uri": "https://localhost:8080/"
        },
        "id": "unoXNScvrXge",
        "outputId": "a863c5f1-8a71-4613-e5cc-9f25aabf5aa3"
      },
      "outputs": [
        {
          "name": "stdout",
          "output_type": "stream",
          "text": [
            "test_and_grade_matrix_a: \n",
            "[[[ 1  2]\n",
            "  [ 3  4]]\n",
            "\n",
            " [[10 12]\n",
            "  [18 14]]]\n",
            "test_and_grade_matrix_b: \n",
            "[[[ 1  2]\n",
            "  [ 3  4]]\n",
            "\n",
            " [[15 18]\n",
            "  [14  9]]]\n",
            "final_array: \n",
            "[[[[ 1  2]\n",
            "   [ 3  4]]\n",
            "\n",
            "  [[10 12]\n",
            "   [18 14]]]\n",
            "\n",
            "\n",
            " [[[ 1  2]\n",
            "   [ 3  4]]\n",
            "\n",
            "  [[15 18]\n",
            "   [14  9]]]]\n"
          ]
        }
      ],
      "source": [
        "#lista de listas com o número dos testes\n",
        "test_matrix = [[1, 2],\n",
        "               [3, 4]]\n",
        "\n",
        "#lista de listas com as notas da turma \"a\"\n",
        "grade_matrix_a = [[10,12],\n",
        "                  [18,14]]\n",
        "\n",
        "# crie um array 3D com os testes e as notas (test_and_grade_matrix_a)\n",
        "test_and_grade_matrix_a = np.array((test_matrix,grade_matrix_a))\n",
        "\n",
        "# faça print para ver o array test_and_grade_matrix_a\n",
        "print(\"test_and_grade_matrix_a: \")\n",
        "print(test_and_grade_matrix_a)\n",
        "\n",
        "#lista de listas com as notas da turma \"b\"\n",
        "grade_matrix_b = [[15,18],\n",
        "                  [14,9]]\n",
        "\n",
        "#  crie um segundo array 3D com os testes e as notas da turma \"b\"\n",
        "test_and_grade_matrix_b = np.array((test_matrix, grade_matrix_b))\n",
        "print(\"test_and_grade_matrix_b: \")\n",
        "print(test_and_grade_matrix_b)\n",
        "\n",
        "# crie um array 4D com os testes e as notas das duas turmas\n",
        "final_array = np.array((test_and_grade_matrix_a, test_and_grade_matrix_b))\n",
        "\n",
        "# faça print do shape do final_array\n",
        "print(\"final_array: \")\n",
        "print(final_array)"
      ]
    },
    {
      "cell_type": "code",
      "execution_count": null,
      "metadata": {
        "colab": {
          "base_uri": "https://localhost:8080/"
        },
        "id": "LpCS_ATIsbix",
        "outputId": "cd3dda34-327e-48e9-e8af-0c7c2671fca2"
      },
      "outputs": [
        {
          "name": "stdout",
          "output_type": "stream",
          "text": [
            "[1 2 3 4]\n",
            "[1 2 3 4]\n",
            "[[1 2]\n",
            " [3 4]]\n"
          ]
        }
      ],
      "source": [
        "#aqui eu transformo a lista test_matrix em array para poder usar o .flatten()\n",
        "test_matrix_array = np.array(test_matrix)\n",
        "\n",
        "# vamos achatar o array dos testes\n",
        "flattened_test_matrix = test_matrix_array.flatten()\n",
        "\n",
        "# faça print do shape do flattened_test_matrix\n",
        "print(flattened_test_matrix)\n",
        "\n",
        "# devolva a forma antiga ao flattened_test_matrix\n",
        "reshaped_flattened_test_matrix = flattened_test_matrix.reshape(2,2)\n",
        "\n",
        "# faça print do flattened_test_matrix e do reshaped_flattened_test_matrix\n",
        "print(flattened_test_matrix)\n",
        "print(reshaped_flattened_test_matrix)"
      ]
    }
  ],
  "metadata": {
    "colab": {
      "provenance": []
    },
    "kernelspec": {
      "display_name": "Python 3",
      "name": "python3"
    },
    "language_info": {
      "codemirror_mode": {
        "name": "ipython",
        "version": 3
      },
      "file_extension": ".py",
      "mimetype": "text/x-python",
      "name": "python",
      "nbconvert_exporter": "python",
      "pygments_lexer": "ipython3",
      "version": "3.13.7"
    }
  },
  "nbformat": 4,
  "nbformat_minor": 0
}
